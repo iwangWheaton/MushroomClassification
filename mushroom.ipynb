{
 "cells": [
  {
   "cell_type": "code",
   "execution_count": null,
   "id": "8a7dcc64-ad4b-4190-81c5-369b4dfb7110",
   "metadata": {},
   "outputs": [],
   "source": [
    "import numpy as np\n",
    "import pandas as pd\n",
    "from sklearn.model_selection import train_test_split\n",
    "from sklearn.svm import SVC\n",
    "from sklearn.neighbors import KNeighborsClassifier\n",
    "from sklearn.linear_model import LogisticRegression\n",
    "from sklearn.metrics import accuracy_score, confusion_matrix\n",
    "from sklearn.preprocessing import LabelEncoder, StandardScaler\n",
    "from sklearn.decomposition import PCA\n",
    "from sklearn.pipeline import Pipeline\n",
    "#loading the dataset \n",
    "shroom = pd.read_csv('./cleaned_up_secondary_mushroom_dataset.csv')\n"
   ]
  },
  {
   "cell_type": "code",
   "execution_count": null,
   "id": "ec0ddfed-1ccc-4a94-800d-30a97a52a8c7",
   "metadata": {},
   "outputs": [],
   "source": [
    "features_to_drop = [\n",
    "    'gill-attachment', 'gill-spacing', 'cap-surface',\n",
    "    'stem-root', 'stem-surface', 'veil-type',\n",
    "    'veil-color', 'spore-print-color'\n",
    "]\n",
    "shroom = shroom.drop(columns=features_to_drop)\n",
    "# converting target letters to numerical values\n",
    "shroom['class'] = shroom['class'].map({'e': 0, 'p': 1})\n",
    "#converting other features \n",
    "for column in shroom.columns:\n",
    "    if column != 'class' and shroom[column].dtype == 'object':\n",
    "        # Create numerical mapping for each feature\n",
    "        unique_values = shroom[column].unique()\n",
    "        mapping = {value: idx for idx, value in enumerate(unique_values)}\n",
    "        shroom[column] = shroom[column].map(mapping)\n",
    "\n",
    "#sperating data and dargets \n",
    "shroom_data = shroom.iloc[:, 1:].to_numpy()  \n",
    "shroom_targets = shroom['class'].to_numpy()\n",
    "X_train, X_test, y_train, y_test = train_test_split(\n",
    "    shroom_data, \n",
    "    shroom_targets,\n",
    "    test_size=0.25, \n",
    "    random_state=42,\n",
    "    stratify=shroom_targets \n",
    ")\n",
    "\n",
    "#testing\n",
    "print(\"Training features shape:\", X_train.shape)\n",
    "print(\"Test features shape:\", X_test.shape)\n",
    "print(\"Training targets shape:\", y_train.shape)\n",
    "print(\"Test targets shape:\", y_test.shape)\n"
   ]
  },
  {
   "cell_type": "code",
   "execution_count": null,
   "id": "33f8fbc8-d8d1-444d-8387-3691167c8108",
   "metadata": {},
   "outputs": [],
   "source": [
    "svm_model = SVC(kernel='linear', C=1.0)"
   ]
  },
  {
   "cell_type": "code",
   "execution_count": null,
   "id": "e3aa2101-e496-42cc-81e5-099aa1a90117",
   "metadata": {},
   "outputs": [],
   "source": [
    "knn_model = KNeighborsClassifier(n_neighbors=5)"
   ]
  },
  {
   "cell_type": "code",
   "execution_count": null,
   "id": "1c369604-4bb8-4295-a113-df8b8b3c46c5",
   "metadata": {},
   "outputs": [],
   "source": [
    "pca = PCA(n_components=10)\n",
    "logreg_model = LogisticRegression(max_iter=1000)\n",
    "scaler = StandardScaler()\n",
    "pipe = Pipeline(steps=[(\"scaler\", scaler), (\"pca\", pca), (\"logistic\", logreg_model)])\n",
    "pipe.fit(X_train, y_train)\n",
    "\n",
    "y_pred_test_pca = pipe.predict(X_test)\n",
    "y_pred_train_pca = pipe.predict(X_train)\n",
    "\n",
    "accuracy_test_pca = round(accuracy_score(y_test, y_pred_test_pca), 4)\n",
    "accuracy_train_pca = round(accuracy_score(y_train, y_pred_train_pca), 4)\n",
    "\n",
    "logreg_model.fit(X_train, y_train)\n",
    "\n",
    "y_pred_test_no_pca = logreg_model.predict(X_test)\n",
    "y_pred_train_no_pca = logreg_model.predict(X_train)\n",
    "\n",
    "accuracy_test_no_pca = round(accuracy_score(y_test, y_pred_test_no_pca), 4)\n",
    "accuracy_train_no_pca = round(accuracy_score(y_train, y_pred_train_no_pca), 4)\n",
    "\n",
    "print(\"Using PCA:\")\n",
    "print(f\"-Test Set: {accuracy_test_pca}\")\n",
    "print(f\"-Training Set: {accuracy_train_pca}\")\n",
    "\n",
    "print(\"\\nNo PCA:\")\n",
    "print(f\"-Test Set: {accuracy_test_no_pca}\")\n",
    "print(f\"-Training Set: {accuracy_train_no_pca}\")"
   ]
  },
  {
   "cell_type": "code",
   "execution_count": null,
   "id": "659e5fe0-a2f2-4c71-80cb-148f9a83a5b2",
   "metadata": {},
   "outputs": [],
   "source": [
    "# svm_conf_matrix = confusion_matrix(y_test, svm_predictions)\n",
    "# print(\"SVM Confusion Matrix:\\n\", svm_conf_matrix)"
   ]
  },
  {
   "cell_type": "code",
   "execution_count": null,
   "id": "b95d5716-bb03-46fe-ac44-7341316e728b",
   "metadata": {},
   "outputs": [],
   "source": []
  }
 ],
 "metadata": {
  "kernelspec": {
   "display_name": "Python [conda env:base] *",
   "language": "python",
   "name": "conda-base-py"
  },
  "language_info": {
   "codemirror_mode": {
    "name": "ipython",
    "version": 3
   },
   "file_extension": ".py",
   "mimetype": "text/x-python",
   "name": "python",
   "nbconvert_exporter": "python",
   "pygments_lexer": "ipython3",
   "version": "3.12.3"
  }
 },
 "nbformat": 4,
 "nbformat_minor": 5
}
